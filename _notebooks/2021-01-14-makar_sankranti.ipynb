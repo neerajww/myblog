{
 "cells": [
  {
   "cell_type": "markdown",
   "metadata": {},
   "source": [
    "# Curious about Makar Sankranti?\n",
    "> Lets understand the amazingness of this Hindu festival?\n",
    "\n",
    "- toc: false \n",
    "- comments: true"
   ]
  },
  {
   "cell_type": "markdown",
   "metadata": {},
   "source": [
    "``Makar Sankranti (MS) is a Hindu festival, and it is celebrated every year on 14th or 15th January.`` \n",
    "\n",
    "### Every year  - 14th or 15th. Why so? \n",
    "The dates of most Hindu festivals follow the moon position, and this makes their date vary a lot from one year to another. Makar Sankranti follows the position of Sun (not moon). But does the sun move? Of course, it does. I mean everything in this universe is moving, but - not everything is moving by the same amount. So, do we experience the movement of the Sun? No, at least I don't, and I think you too don't and your friend too doesn't. Then what is this fuss about MS following the position of Sun.\n",
    "\n",
    "> Imagine you are inside a train, and the train is moving and you are sitting still. You took a nap, and the fan fell on you. You woke up, and forgot that the train was moving. Instead, you look out of the window, and start to think the world outside the train is moving and not the train. This is the scenario we will imagine for a while - you are sitting in the train, and the world outside is moving. You noticed 12 stations on the way, but the train didn't stop on any of them. It is moving, moving and moving, and at the same speed. But wait - what happened to the 13th station! It looks similar to the 1st station. You are surprised. And then comes the 14th station, it looks similar to the 2nd station! Oh my goodness, the stations are repeating. After a while you conclude that the 12 stations keep repeating, and that too in the same order. You have lost your watch, and the train hasn't stopped since a long time. What do you do? You start keeping track of time via the cycle of the 12 stations!\n",
    "\n",
    "``Now let's switch to the world we live in.`` The train is our Earth. It is moving around the Sun on a fixed orbit. Depending on where we are on this orbit, when we look up at the sky we see different constellations. Sometimes we see the Sun entering some constellations, and sometimes leaving some. Humans have been very smart. In our course of years of journey around the Sun, humans have documented that the Sun goes through a cycle of 12 constellations, and this cycle repeats! That's how we decided to have 12 solar months (my guess). The transition of Sun from one constellation (rashi) to another is called Sankranti.\n",
    "\n",
    "### What is makar though? \n",
    "Now, what is \"Makar\" in Makar Sankranti? Makar is a legendary sea-creature in hindu mythology. In hindu astrology, makar refers to a constellation. The Romans call this constellation Capricornus. May be we can say - Hindus and Romans looked at this constellation, and found it to resemble imaginary creatures. The Romans imagined it as a sea-goat! The image below compares the two depictions.\n",
    "![Source Neeks](my_images/makar.png)\n",
    "\n",
    "\n",
    "### Daylight begins to increase! \n",
    "According to Hindu astrology, on the day of MS, the Sun enters the Capricornus constellation. This marks the end of short days, and from this day onwards the daylight duration begins to increase. Such an amazing observation, and all this by just being inside the train, or standing on the Earth! Now we have an easy to grasp image of this. The earth (our train analogy) has a tilted axis of rotation, and it revolves around the Sun. Based on where it is in this orbit, the daylight time will change. You would have heard about 21st Dec as the day with the longest night. Sounds a little odd then, right? Yes, that's according to tropical astrology. The Hindu astrology follows sidereal astrology - the two have some differences, and to know more I will suggest to read about the history of astronomy, I haven't. According to tropical astrology, the Sun enters Capricornus on 21st Dec and exits on 19 Jan. You can see in the below figure how the duration of \"sunrise to sunset\" (or daylight time) changes across days of a year. Here, I have plotted it for two Indian cities, and for the year 2019. Lets first consider the eastern city Dibrugarh. We can see that on 21st June the daylight duration is maximum, and then it begins to decrease. On Dec. 21st it reaches a minimum value, and then starts to increase. Two times in a year the daylight equals 12 hrs, these days are referred to as equinox. We can see a similar pattern for the Western city Porbandar. \n",
    "![Source: Neeks](my_images/earth_daylights.png)\n",
    "\n",
    "\n",
    "\n",
    "### And what's the reason for celebration? \n",
    "Further, as the occurrence of Makar Sankranti relates to the increase in amount of sunlight received by earth in the coming days, many life forms also respond to this event. In India, you will find migratory birds start to return to hills, and winter is about to end with spring season coming soon. Rice is harvested in December, and sugarcane in December-March. Hence, although MS has astrological relevance, it indirectly also marks a joyous moment for many life forms, including humans - at least when agriculture was the major occupation!\n"
   ]
  },
  {
   "cell_type": "markdown",
   "metadata": {},
   "source": [
    "### That's it\n",
    "\n",
    "* This post is my limited knowledge about Makar Sankranti. In case you have some suggestions, feel free to use the comment section below.\n",
    "\n",
    "* If you are more interested, I encourage you to see the wikipedia page [here](https://en.wikipedia.org/wiki/Makar_Sankranti). It has a wealth of information about how Makar Sankranti is celebrated in different cultures across India. \n"
   ]
  },
  {
   "cell_type": "code",
   "execution_count": null,
   "metadata": {
    "collapsed": true
   },
   "outputs": [],
   "source": []
  }
 ],
 "metadata": {
  "kernelspec": {
   "display_name": "Python 3",
   "language": "python",
   "name": "python3"
  },
  "language_info": {
   "codemirror_mode": {
    "name": "ipython",
    "version": 3
   },
   "file_extension": ".py",
   "mimetype": "text/x-python",
   "name": "python",
   "nbconvert_exporter": "python",
   "pygments_lexer": "ipython3",
   "version": "3.6.8"
  }
 },
 "nbformat": 4,
 "nbformat_minor": 2
}

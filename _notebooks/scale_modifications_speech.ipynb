{
 "cells": [
  {
   "cell_type": "markdown",
   "metadata": {},
   "source": [
    "# Scaling speech signals\n",
    "> What does it even mean?\n",
    "\n",
    "- toc: true \n",
    "- comments: true"
   ]
  },
  {
   "cell_type": "markdown",
   "metadata": {},
   "source": [
    "# About \n",
    "The digitization of any object represents (or encodes) the object using numbers. These numbers are stored in our digital devices, often transmitted over internet, and flashed on our screen if the object is an image or heard on our speakers if it is a sound. Pause a bit, and imagine a world without digitization - books on papers, store photographs on films, and music on records. In short, digitization has made our world lighter, way lighter! \n",
    "\n",
    "Alongside, it has also given some powers to alter the object. For example, you can click a photograph on your mobile camera, and change the brightness/contrast and also do a lot more. Scaling is one such operation. In the figure below you can see a square and a circle both are scaled by 2x (where x means multiplication). The interesting thing to note is that this scaling has preserved the perceived shape - square (and circle) is still a square (and circle). Scaling a face image is also preserving this aspect, the face looks like the same face. This is good. Imagine, if you scaled a face and the nose became larger than the ear - you won't like it. You can read more about it [here](https://en.wikipedia.org/wiki/Image_scaling). In this post, I will discuss about scaling sound signals.\n",
    "![neeraj](my_images/scaling_examp.png)\n",
    "\n",
    "Consider we have a signal $x(t)=a\\sin2\\pi ft$, or the sine wave. The time-scaled signal will be $y(t)=x(\\alpha t)$. Whatever happens in $x(t)$ at $t=t_0$ will happen in $y(t)$ at $t=\\alpha t_0$. So, $\\alpha>1$ implies time-shrinking or $\\alpha<1$ implies time stretching. Note, $\\alpha<0$ is will do the same and also time-flipping, not useful here. So far, so good.\n",
    "\n",
    "But unlike the above example, a sound signal is digitized while storage, that is, $x(t)$ is stored as $x[nT]$. Any time-scaling has to go through an in-between data interpolation stage. Further, when it comes to speech signals time-scaling should preserve the speaker attributes. An easily perceived speaker attributes is pitch. We should expect time-scaling of speech signal should not alter the pitch of the speaker as otherwise the time-scaled speech signal will not sound like spoken by the original speaker.\n"
   ]
  },
  {
   "cell_type": "markdown",
   "metadata": {},
   "source": [
    "# Examples\n"
   ]
  },
  {
   "cell_type": "code",
   "execution_count": null,
   "metadata": {
    "collapsed": true
   },
   "outputs": [],
   "source": []
  }
 ],
 "metadata": {
  "kernelspec": {
   "display_name": "Python 3",
   "language": "python",
   "name": "python3"
  },
  "language_info": {
   "codemirror_mode": {
    "name": "ipython",
    "version": 3
   },
   "file_extension": ".py",
   "mimetype": "text/x-python",
   "name": "python",
   "nbconvert_exporter": "python",
   "pygments_lexer": "ipython3",
   "version": "3.6.8"
  }
 },
 "nbformat": 4,
 "nbformat_minor": 2
}
